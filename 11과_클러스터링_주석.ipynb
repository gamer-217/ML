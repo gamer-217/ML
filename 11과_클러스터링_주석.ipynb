{
  "cells": [
    {
      "cell_type": "markdown",
      "metadata": {
        "id": "view-in-github",
        "colab_type": "text"
      },
      "source": [
        "<a href=\"https://colab.research.google.com/github/gamer-217/ML/blob/main/11%EA%B3%BC_%ED%81%B4%EB%9F%AC%EC%8A%A4%ED%84%B0%EB%A7%81_%EC%A3%BC%EC%84%9D.ipynb\" target=\"_parent\"><img src=\"https://colab.research.google.com/assets/colab-badge.svg\" alt=\"Open In Colab\"/></a>"
      ]
    },
    {
      "cell_type": "markdown",
      "source": [],
      "metadata": {
        "id": "paG_UCBb8F3t"
      },
      "id": "paG_UCBb8F3t"
    },
    {
      "cell_type": "markdown",
      "source": [
        "11.2  인위적 데이터를 k-means 알고리즘으로 클러스터링하기"
      ],
      "metadata": {
        "id": "4maTIMop8L_P"
      },
      "id": "4maTIMop8L_P"
    },
    {
      "cell_type": "code",
      "execution_count": null,
      "id": "b10a000e",
      "metadata": {
        "id": "b10a000e"
      },
      "outputs": [],
      "source": [
        "# 필요한 라이브러리 임포트\n",
        "from sklearn.datasets import make_blobs\n",
        "import pandas as pd\n",
        "import matplotlib.pyplot as plt\n",
        "import numpy as np\n",
        "import scipy as sp\n"
      ]
    },
    {
      "cell_type": "code",
      "execution_count": null,
      "id": "de8b7712",
      "metadata": {
        "id": "de8b7712"
      },
      "outputs": [],
      "source": [
        "# 무작위 데이터 포인트 생성, 세 개의 중심을 가진 클러스터\n",
        "data, cls = make_blobs(n_samples=100, centers=3, n_features=2, random_state=9)\n"
      ]
    },
    {
      "cell_type": "code",
      "execution_count": null,
      "id": "e799c643",
      "metadata": {
        "id": "e799c643"
      },
      "outputs": [],
      "source": [
        "# 생성된 데이터 포인트를 pandas 데이터프레임으로 변환\n",
        "points = pd.DataFrame(data, cls)\n",
        "points.columns = ['d1', 'd2']\n"
      ]
    },
    {
      "cell_type": "code",
      "execution_count": null,
      "id": "545c4b11",
      "metadata": {
        "colab": {
          "base_uri": "https://localhost:8080/",
          "height": 430
        },
        "id": "545c4b11",
        "outputId": "c0b037e3-9ac9-4883-82c8-978591169536"
      },
      "outputs": [
        {
          "output_type": "display_data",
          "data": {
            "text/plain": [
              "<Figure size 640x480 with 1 Axes>"
            ],
            "image/png": "[encoded data removed]"
          },
          "metadata": {}
        }
      ],
      "source": [
        "# 데이터 프레임에서 임의의 3개의 포인트를 초기 중심으로 샘플링\n",
        "centroids = points.sample(3, random_state=9)\n",
        "\n",
        "# 데이터 포인트와 초기 중심을 시각화\n",
        "plt.scatter(points['d1'], points['d2'])\n",
        "plt.scatter(centroids['d1'], centroids['d2'])\n",
        "plt.show()\n",
        "\n"
      ]
    },
    {
      "cell_type": "code",
      "execution_count": null,
      "id": "cc9a1b41",
      "metadata": {
        "colab": {
          "base_uri": "https://localhost:8080/"
        },
        "id": "cc9a1b41",
        "outputId": "99acd318-8494-4a2c-9bf0-c836f62aaf8a"
      },
      "outputs": [
        {
          "output_type": "execute_result",
          "data": {
            "text/plain": [
              "array([[ 8.44129256,  7.09945613, 13.01092866],\n",
              "       [ 7.97443076,  7.27770047,  2.190288  ],\n",
              "       [ 0.88300842,  3.1948764 ,  6.96682744],\n",
              "       [ 2.81163891,  2.40967548,  5.06958482],\n",
              "       [ 7.48674916,  5.83218597,  0.35884682]])"
            ]
          },
          "metadata": {},
          "execution_count": 5
        }
      ],
      "source": [
        "# 각 점과 중심 간의 유클리드 거리 계산\n",
        "dist = sp.spatial.distance.cdist(points, centroids, \"euclidean\")\n",
        "dist[0:5, :]  # 거리 행렬의 처음 5개 행 확인\n"
      ]
    },
    {
      "cell_type": "code",
      "execution_count": null,
      "id": "8bc3a1b2",
      "metadata": {
        "colab": {
          "base_uri": "https://localhost:8080/"
        },
        "id": "8bc3a1b2",
        "outputId": "14ad28a2-42c6-4467-d9fe-f8423a29b952"
      },
      "outputs": [
        {
          "output_type": "execute_result",
          "data": {
            "text/plain": [
              "array([1, 2, 0, 1, 2, 2, 2, 1, 1, 2, 1, 2, 1, 1, 0, 1, 1, 1, 2, 1, 2, 1,\n",
              "       2, 1, 2, 0, 0, 2, 2, 1, 2, 1, 0, 1, 2, 0, 1, 1, 2, 2, 0, 2, 1, 2,\n",
              "       1, 1, 2, 1, 0, 1, 2, 1, 1, 2, 2, 1, 1, 2, 2, 2, 1, 2, 2, 0, 1, 2,\n",
              "       1, 0, 1, 0, 1, 2, 1, 0, 1, 0, 1, 0, 1, 2, 1, 1, 2, 1, 2, 1, 1, 1,\n",
              "       1, 1, 0, 1, 1, 1, 2, 1, 1, 1, 1, 2])"
            ]
          },
          "metadata": {},
          "execution_count": 6
        }
      ],
      "source": [
        "# 각 점에서 가장 가까운 중심의 인덱스를 찾음\n",
        "cidx = np.argmin(dist, axis=1)\n",
        "cidx\n"
      ]
    },
    {
      "cell_type": "code",
      "execution_count": null,
      "id": "b5daaa39",
      "metadata": {
        "colab": {
          "base_uri": "https://localhost:8080/",
          "height": 206
        },
        "id": "b5daaa39",
        "outputId": "279c141f-52d8-417d-a943-33cde3241048"
      },
      "outputs": [
        {
          "output_type": "execute_result",
          "data": {
            "text/plain": [
              "          d1        d2  cluster\n",
              "1   0.476743 -7.083684        1\n",
              "0 -12.464627 -0.875787        2\n",
              "2  -8.342720 -6.659578        0\n",
              "2  -8.483402 -4.691798        1\n",
              "0 -10.286264 -0.338606        2"
            ],
            "text/html": [
              "\n",
              "  <div id=\"df-3daf0b5b-765e-42a1-b016-ce5b25ff1a25\" class=\"colab-df-container\">\n",
              "    <div>\n",
              "<style scoped>\n",
              "    .dataframe tbody tr th:only-of-type {\n",
              "        vertical-align: middle;\n",
              "    }\n",
              "\n",
              "    .dataframe tbody tr th {\n",
              "        vertical-align: top;\n",
              "    }\n",
              "\n",
              "    .dataframe thead th {\n",
              "        text-align: right;\n",
              "    }\n",
              "</style>\n",
              "<table border=\"1\" class=\"dataframe\">\n",
              "  <thead>\n",
              "    <tr style=\"text-align: right;\">\n",
              "      <th></th>\n",
              "      <th>d1</th>\n",
              "      <th>d2</th>\n",
              "      <th>cluster</th>\n",
              "    </tr>\n",
              "  </thead>\n",
              "  <tbody>\n",
              "    <tr>\n",
              "      <th>1</th>\n",
              "      <td>0.476743</td>\n",
              "      <td>-7.083684</td>\n",
              "      <td>1</td>\n",
              "    </tr>\n",
              "    <tr>\n",
              "      <th>0</th>\n",
              "      <td>-12.464627</td>\n",
              "      <td>-0.875787</td>\n",
              "      <td>2</td>\n",
              "    </tr>\n",
              "    <tr>\n",
              "      <th>2</th>\n",
              "      <td>-8.342720</td>\n",
              "      <td>-6.659578</td>\n",
              "      <td>0</td>\n",
              "    </tr>\n",
              "    <tr>\n",
              "      <th>2</th>\n",
              "      <td>-8.483402</td>\n",
              "      <td>-4.691798</td>\n",
              "      <td>1</td>\n",
              "    </tr>\n",
              "    <tr>\n",
              "      <th>0</th>\n",
              "      <td>-10.286264</td>\n",
              "      <td>-0.338606</td>\n",
              "      <td>2</td>\n",
              "    </tr>\n",
              "  </tbody>\n",
              "</table>\n",
              "</div>\n",
              "    <div class=\"colab-df-buttons\">\n",
              "\n",
              "  <div class=\"colab-df-container\">\n",
              "    <button class=\"colab-df-convert\" onclick=\"convertToInteractive('df-3daf0b5b-765e-42a1-b016-ce5b25ff1a25')\"\n",
              "            title=\"Convert this dataframe to an interactive table.\"\n",
              "            style=\"display:none;\">\n",
              "\n",
              "  <svg xmlns=\"http://www.w3.org/2000/svg\" height=\"24px\" viewBox=\"0 -960 960 960\">\n",
              "    <path d=\"M120-120v-720h720v720H120Zm60-500h600v-160H180v160Zm220 220h160v-160H400v160Zm0 220h160v-160H400v160ZM180-400h160v-160H180v160Zm440 0h160v-160H620v160ZM180-180h160v-160H180v160Zm440 0h160v-160H620v160Z\"/>\n",
              "  </svg>\n",
              "    </button>\n",
              "\n",
              "  <style>\n",
              "    .colab-df-container {\n",
              "      display:flex;\n",
              "      gap: 12px;\n",
              "    }\n",
              "\n",
              "    .colab-df-convert {\n",
              "      background-color: #E8F0FE;\n",
              "      border: none;\n",
              "      border-radius: 50%;\n",
              "      cursor: pointer;\n",
              "      display: none;\n",
              "      fill: #1967D2;\n",
              "      height: 32px;\n",
              "      padding: 0 0 0 0;\n",
              "      width: 32px;\n",
              "    }\n",
              "\n",
              "    .colab-df-convert:hover {\n",
              "      background-color: #E2EBFA;\n",
              "      box-shadow: 0px 1px 2px rgba(60, 64, 67, 0.3), 0px 1px 3px 1px rgba(60, 64, 67, 0.15);\n",
              "      fill: #174EA6;\n",
              "    }\n",
              "\n",
              "    .colab-df-buttons div {\n",
              "      margin-bottom: 4px;\n",
              "    }\n",
              "\n",
              "    [theme=dark] .colab-df-convert {\n",
              "      background-color: #3B4455;\n",
              "      fill: #D2E3FC;\n",
              "    }\n",
              "\n",
              "    [theme=dark] .colab-df-convert:hover {\n",
              "      background-color: #434B5C;\n",
              "      box-shadow: 0px 1px 3px 1px rgba(0, 0, 0, 0.15);\n",
              "      filter: drop-shadow(0px 1px 2px rgba(0, 0, 0, 0.3));\n",
              "      fill: #FFFFFF;\n",
              "    }\n",
              "  </style>\n",
              "\n",
              "    <script>\n",
              "      const buttonEl =\n",
              "        document.querySelector('#df-3daf0b5b-765e-42a1-b016-ce5b25ff1a25 button.colab-df-convert');\n",
              "      buttonEl.style.display =\n",
              "        google.colab.kernel.accessAllowed ? 'block' : 'none';\n",
              "\n",
              "      async function convertToInteractive(key) {\n",
              "        const element = document.querySelector('#df-3daf0b5b-765e-42a1-b016-ce5b25ff1a25');\n",
              "        const dataTable =\n",
              "          await google.colab.kernel.invokeFunction('convertToInteractive',\n",
              "                                                    [key], {});\n",
              "        if (!dataTable) return;\n",
              "\n",
              "        const docLinkHtml = 'Like what you see? Visit the ' +\n",
              "          '<a target=\"_blank\" href=https://colab.research.google.com/notebooks/data_table.ipynb>data table notebook</a>'\n",
              "          + ' to learn more about interactive tables.';\n",
              "        element.innerHTML = '';\n",
              "        dataTable['output_type'] = 'display_data';\n",
              "        await google.colab.output.renderOutput(dataTable, element);\n",
              "        const docLink = document.createElement('div');\n",
              "        docLink.innerHTML = docLinkHtml;\n",
              "        element.appendChild(docLink);\n",
              "      }\n",
              "    </script>\n",
              "  </div>\n",
              "\n",
              "\n",
              "<div id=\"df-c6f50e1a-7d71-4902-a3af-69eb314ef37a\">\n",
              "  <button class=\"colab-df-quickchart\" onclick=\"quickchart('df-c6f50e1a-7d71-4902-a3af-69eb314ef37a')\"\n",
              "            title=\"Suggest charts\"\n",
              "            style=\"display:none;\">\n",
              "\n",
              "<svg xmlns=\"http://www.w3.org/2000/svg\" height=\"24px\"viewBox=\"0 0 24 24\"\n",
              "     width=\"24px\">\n",
              "    <g>\n",
              "        <path d=\"M19 3H5c-1.1 0-2 .9-2 2v14c0 1.1.9 2 2 2h14c1.1 0 2-.9 2-2V5c0-1.1-.9-2-2-2zM9 17H7v-7h2v7zm4 0h-2V7h2v10zm4 0h-2v-4h2v4z\"/>\n",
              "    </g>\n",
              "</svg>\n",
              "  </button>\n",
              "\n",
              "<style>\n",
              "  .colab-df-quickchart {\n",
              "      --bg-color: #E8F0FE;\n",
              "      --fill-color: #1967D2;\n",
              "      --hover-bg-color: #E2EBFA;\n",
              "      --hover-fill-color: #174EA6;\n",
              "      --disabled-fill-color: #AAA;\n",
              "      --disabled-bg-color: #DDD;\n",
              "  }\n",
              "\n",
              "  [theme=dark] .colab-df-quickchart {\n",
              "      --bg-color: #3B4455;\n",
              "      --fill-color: #D2E3FC;\n",
              "      --hover-bg-color: #434B5C;\n",
              "      --hover-fill-color: #FFFFFF;\n",
              "      --disabled-bg-color: #3B4455;\n",
              "      --disabled-fill-color: #666;\n",
              "  }\n",
              "\n",
              "  .colab-df-quickchart {\n",
              "    background-color: var(--bg-color);\n",
              "    border: none;\n",
              "    border-radius: 50%;\n",
              "    cursor: pointer;\n",
              "    display: none;\n",
              "    fill: var(--fill-color);\n",
              "    height: 32px;\n",
              "    padding: 0;\n",
              "    width: 32px;\n",
              "  }\n",
              "\n",
              "  .colab-df-quickchart:hover {\n",
              "    background-color: var(--hover-bg-color);\n",
              "    box-shadow: 0 1px 2px rgba(60, 64, 67, 0.3), 0 1px 3px 1px rgba(60, 64, 67, 0.15);\n",
              "    fill: var(--button-hover-fill-color);\n",
              "  }\n",
              "\n",
              "  .colab-df-quickchart-complete:disabled,\n",
              "  .colab-df-quickchart-complete:disabled:hover {\n",
              "    background-color: var(--disabled-bg-color);\n",
              "    fill: var(--disabled-fill-color);\n",
              "    box-shadow: none;\n",
              "  }\n",
              "\n",
              "  .colab-df-spinner {\n",
              "    border: 2px solid var(--fill-color);\n",
              "    border-color: transparent;\n",
              "    border-bottom-color: var(--fill-color);\n",
              "    animation:\n",
              "      spin 1s steps(1) infinite;\n",
              "  }\n",
              "\n",
              "  @keyframes spin {\n",
              "    0% {\n",
              "      border-color: transparent;\n",
              "      border-bottom-color: var(--fill-color);\n",
              "      border-left-color: var(--fill-color);\n",
              "    }\n",
              "    20% {\n",
              "      border-color: transparent;\n",
              "      border-left-color: var(--fill-color);\n",
              "      border-top-color: var(--fill-color);\n",
              "    }\n",
              "    30% {\n",
              "      border-color: transparent;\n",
              "      border-left-color: var(--fill-color);\n",
              "      border-top-color: var(--fill-color);\n",
              "      border-right-color: var(--fill-color);\n",
              "    }\n",
              "    40% {\n",
              "      border-color: transparent;\n",
              "      border-right-color: var(--fill-color);\n",
              "      border-top-color: var(--fill-color);\n",
              "    }\n",
              "    60% {\n",
              "      border-color: transparent;\n",
              "      border-right-color: var(--fill-color);\n",
              "    }\n",
              "    80% {\n",
              "      border-color: transparent;\n",
              "      border-right-color: var(--fill-color);\n",
              "      border-bottom-color: var(--fill-color);\n",
              "    }\n",
              "    90% {\n",
              "      border-color: transparent;\n",
              "      border-bottom-color: var(--fill-color);\n",
              "    }\n",
              "  }\n",
              "</style>\n",
              "\n",
              "  <script>\n",
              "    async function quickchart(key) {\n",
              "      const quickchartButtonEl =\n",
              "        document.querySelector('#' + key + ' button');\n",
              "      quickchartButtonEl.disabled = true;  // To prevent multiple clicks.\n",
              "      quickchartButtonEl.classList.add('colab-df-spinner');\n",
              "      try {\n",
              "        const charts = await google.colab.kernel.invokeFunction(\n",
              "            'suggestCharts', [key], {});\n",
              "      } catch (error) {\n",
              "        console.error('Error during call to suggestCharts:', error);\n",
              "      }\n",
              "      quickchartButtonEl.classList.remove('colab-df-spinner');\n",
              "      quickchartButtonEl.classList.add('colab-df-quickchart-complete');\n",
              "    }\n",
              "    (() => {\n",
              "      let quickchartButtonEl =\n",
              "        document.querySelector('#df-c6f50e1a-7d71-4902-a3af-69eb314ef37a button');\n",
              "      quickchartButtonEl.style.display =\n",
              "        google.colab.kernel.accessAllowed ? 'block' : 'none';\n",
              "    })();\n",
              "  </script>\n",
              "</div>\n",
              "\n",
              "    </div>\n",
              "  </div>\n"
            ],
            "application/vnd.google.colaboratory.intrinsic+json": {
              "type": "dataframe",
              "variable_name": "points",
              "summary": "{\n  \"name\": \"points\",\n  \"rows\": 100,\n  \"fields\": [\n    {\n      \"column\": \"d1\",\n      \"properties\": {\n        \"dtype\": \"number\",\n        \"std\": 4.318514707375477,\n        \"min\": -12.585887127321202,\n        \"max\": 1.3113763535296055,\n        \"num_unique_values\": 100,\n        \"samples\": [\n          -0.939696975467021,\n          -10.01983127953058,\n          -7.725072203719061\n        ],\n        \"semantic_type\": \"\",\n        \"description\": \"\"\n      }\n    },\n    {\n      \"column\": \"d2\",\n      \"properties\": {\n        \"dtype\": \"number\",\n        \"std\": 3.2645387435212436,\n        \"min\": -8.977070796288903,\n        \"max\": 2.492674495274784,\n        \"num_unique_values\": 100,\n        \"samples\": [\n          -7.323187814150288,\n          0.3068072199357944,\n          -4.558870757476521\n        ],\n        \"semantic_type\": \"\",\n        \"description\": \"\"\n      }\n    },\n    {\n      \"column\": \"cluster\",\n      \"properties\": {\n        \"dtype\": \"number\",\n        \"std\": 0,\n        \"min\": 0,\n        \"max\": 2,\n        \"num_unique_values\": 3,\n        \"samples\": [\n          1,\n          2,\n          0\n        ],\n        \"semantic_type\": \"\",\n        \"description\": \"\"\n      }\n    }\n  ]\n}"
            }
          },
          "metadata": {},
          "execution_count": 7
        }
      ],
      "source": [
        "# 가장 가까운 중심의 인덱스를 클러스터 레이블로 추가\n",
        "points[\"cluster\"] = np.array(cidx)\n",
        "points.head()\n"
      ]
    },
    {
      "cell_type": "code",
      "source": [
        "# 클러스터 레이블에 따라 데이터 포인트를 색상으로 구분하여 시각화\n",
        "plt.scatter(points[\"d1\"], points[\"d2\"], c=points[\"cluster\"])\n",
        "plt.show()\n"
      ],
      "metadata": {
        "colab": {
          "base_uri": "https://localhost:8080/",
          "height": 430
        },
        "id": "q8tSntLGli_K",
        "outputId": "149b6600-2324-481f-8ac2-4d88ff1f6342"
      },
      "id": "q8tSntLGli_K",
      "execution_count": null,
      "outputs": [
        {
          "output_type": "display_data",
          "data": {
            "text/plain": [
              "<Figure size 640x480 with 1 Axes>"
            ],
            "image/png": "[encoded data removed]"
          },
          "metadata": {}
        }
      ]
    },
    {
      "cell_type": "code",
      "source": [
        "# 각 클러스터의 새로운 중심을 계산 (평균)\n",
        "centroids2 = points.groupby(\"cluster\").mean()\n",
        "centroids2"
      ],
      "metadata": {
        "colab": {
          "base_uri": "https://localhost:8080/",
          "height": 174
        },
        "id": "EbzhZnG4lphW",
        "outputId": "acf93ff7-49eb-4614-b1b7-b8d1d14cff0f"
      },
      "id": "EbzhZnG4lphW",
      "execution_count": null,
      "outputs": [
        {
          "output_type": "execute_result",
          "data": {
            "text/plain": [
              "               d1        d2\n",
              "cluster                    \n",
              "0       -7.767971 -6.329341\n",
              "1       -2.482664 -6.318129\n",
              "2       -9.916951  0.092368"
            ],
            "text/html": [
              "\n",
              "  <div id=\"df-86d8f7e6-e478-434f-80f6-e5fc434e5b18\" class=\"colab-df-container\">\n",
              "    <div>\n",
              "<style scoped>\n",
              "    .dataframe tbody tr th:only-of-type {\n",
              "        vertical-align: middle;\n",
              "    }\n",
              "\n",
              "    .dataframe tbody tr th {\n",
              "        vertical-align: top;\n",
              "    }\n",
              "\n",
              "    .dataframe thead th {\n",
              "        text-align: right;\n",
              "    }\n",
              "</style>\n",
              "<table border=\"1\" class=\"dataframe\">\n",
              "  <thead>\n",
              "    <tr style=\"text-align: right;\">\n",
              "      <th></th>\n",
              "      <th>d1</th>\n",
              "      <th>d2</th>\n",
              "    </tr>\n",
              "    <tr>\n",
              "      <th>cluster</th>\n",
              "      <th></th>\n",
              "      <th></th>\n",
              "    </tr>\n",
              "  </thead>\n",
              "  <tbody>\n",
              "    <tr>\n",
              "      <th>0</th>\n",
              "      <td>-7.767971</td>\n",
              "      <td>-6.329341</td>\n",
              "    </tr>\n",
              "    <tr>\n",
              "      <th>1</th>\n",
              "      <td>-2.482664</td>\n",
              "      <td>-6.318129</td>\n",
              "    </tr>\n",
              "    <tr>\n",
              "      <th>2</th>\n",
              "      <td>-9.916951</td>\n",
              "      <td>0.092368</td>\n",
              "    </tr>\n",
              "  </tbody>\n",
              "</table>\n",
              "</div>\n",
              "    <div class=\"colab-df-buttons\">\n",
              "\n",
              "  <div class=\"colab-df-container\">\n",
              "    <button class=\"colab-df-convert\" onclick=\"convertToInteractive('df-86d8f7e6-e478-434f-80f6-e5fc434e5b18')\"\n",
              "            title=\"Convert this dataframe to an interactive table.\"\n",
              "            style=\"display:none;\">\n",
              "\n",
              "  <svg xmlns=\"http://www.w3.org/2000/svg\" height=\"24px\" viewBox=\"0 -960 960 960\">\n",
              "    <path d=\"M120-120v-720h720v720H120Zm60-500h600v-160H180v160Zm220 220h160v-160H400v160Zm0 220h160v-160H400v160ZM180-400h160v-160H180v160Zm440 0h160v-160H620v160ZM180-180h160v-160H180v160Zm440 0h160v-160H620v160Z\"/>\n",
              "  </svg>\n",
              "    </button>\n",
              "\n",
              "  <style>\n",
              "    .colab-df-container {\n",
              "      display:flex;\n",
              "      gap: 12px;\n",
              "    }\n",
              "\n",
              "    .colab-df-convert {\n",
              "      background-color: #E8F0FE;\n",
              "      border: none;\n",
              "      border-radius: 50%;\n",
              "      cursor: pointer;\n",
              "      display: none;\n",
              "      fill: #1967D2;\n",
              "      height: 32px;\n",
              "      padding: 0 0 0 0;\n",
              "      width: 32px;\n",
              "    }\n",
              "\n",
              "    .colab-df-convert:hover {\n",
              "      background-color: #E2EBFA;\n",
              "      box-shadow: 0px 1px 2px rgba(60, 64, 67, 0.3), 0px 1px 3px 1px rgba(60, 64, 67, 0.15);\n",
              "      fill: #174EA6;\n",
              "    }\n",
              "\n",
              "    .colab-df-buttons div {\n",
              "      margin-bottom: 4px;\n",
              "    }\n",
              "\n",
              "    [theme=dark] .colab-df-convert {\n",
              "      background-color: #3B4455;\n",
              "      fill: #D2E3FC;\n",
              "    }\n",
              "\n",
              "    [theme=dark] .colab-df-convert:hover {\n",
              "      background-color: #434B5C;\n",
              "      box-shadow: 0px 1px 3px 1px rgba(0, 0, 0, 0.15);\n",
              "      filter: drop-shadow(0px 1px 2px rgba(0, 0, 0, 0.3));\n",
              "      fill: #FFFFFF;\n",
              "    }\n",
              "  </style>\n",
              "\n",
              "    <script>\n",
              "      const buttonEl =\n",
              "        document.querySelector('#df-86d8f7e6-e478-434f-80f6-e5fc434e5b18 button.colab-df-convert');\n",
              "      buttonEl.style.display =\n",
              "        google.colab.kernel.accessAllowed ? 'block' : 'none';\n",
              "\n",
              "      async function convertToInteractive(key) {\n",
              "        const element = document.querySelector('#df-86d8f7e6-e478-434f-80f6-e5fc434e5b18');\n",
              "        const dataTable =\n",
              "          await google.colab.kernel.invokeFunction('convertToInteractive',\n",
              "                                                    [key], {});\n",
              "        if (!dataTable) return;\n",
              "\n",
              "        const docLinkHtml = 'Like what you see? Visit the ' +\n",
              "          '<a target=\"_blank\" href=https://colab.research.google.com/notebooks/data_table.ipynb>data table notebook</a>'\n",
              "          + ' to learn more about interactive tables.';\n",
              "        element.innerHTML = '';\n",
              "        dataTable['output_type'] = 'display_data';\n",
              "        await google.colab.output.renderOutput(dataTable, element);\n",
              "        const docLink = document.createElement('div');\n",
              "        docLink.innerHTML = docLinkHtml;\n",
              "        element.appendChild(docLink);\n",
              "      }\n",
              "    </script>\n",
              "  </div>\n",
              "\n",
              "\n",
              "<div id=\"df-fd23fcc0-3039-48a3-ad73-505dfcf9dfc6\">\n",
              "  <button class=\"colab-df-quickchart\" onclick=\"quickchart('df-fd23fcc0-3039-48a3-ad73-505dfcf9dfc6')\"\n",
              "            title=\"Suggest charts\"\n",
              "            style=\"display:none;\">\n",
              "\n",
              "<svg xmlns=\"http://www.w3.org/2000/svg\" height=\"24px\"viewBox=\"0 0 24 24\"\n",
              "     width=\"24px\">\n",
              "    <g>\n",
              "        <path d=\"M19 3H5c-1.1 0-2 .9-2 2v14c0 1.1.9 2 2 2h14c1.1 0 2-.9 2-2V5c0-1.1-.9-2-2-2zM9 17H7v-7h2v7zm4 0h-2V7h2v10zm4 0h-2v-4h2v4z\"/>\n",
              "    </g>\n",
              "</svg>\n",
              "  </button>\n",
              "\n",
              "<style>\n",
              "  .colab-df-quickchart {\n",
              "      --bg-color: #E8F0FE;\n",
              "      --fill-color: #1967D2;\n",
              "      --hover-bg-color: #E2EBFA;\n",
              "      --hover-fill-color: #174EA6;\n",
              "      --disabled-fill-color: #AAA;\n",
              "      --disabled-bg-color: #DDD;\n",
              "  }\n",
              "\n",
              "  [theme=dark] .colab-df-quickchart {\n",
              "      --bg-color: #3B4455;\n",
              "      --fill-color: #D2E3FC;\n",
              "      --hover-bg-color: #434B5C;\n",
              "      --hover-fill-color: #FFFFFF;\n",
              "      --disabled-bg-color: #3B4455;\n",
              "      --disabled-fill-color: #666;\n",
              "  }\n",
              "\n",
              "  .colab-df-quickchart {\n",
              "    background-color: var(--bg-color);\n",
              "    border: none;\n",
              "    border-radius: 50%;\n",
              "    cursor: pointer;\n",
              "    display: none;\n",
              "    fill: var(--fill-color);\n",
              "    height: 32px;\n",
              "    padding: 0;\n",
              "    width: 32px;\n",
              "  }\n",
              "\n",
              "  .colab-df-quickchart:hover {\n",
              "    background-color: var(--hover-bg-color);\n",
              "    box-shadow: 0 1px 2px rgba(60, 64, 67, 0.3), 0 1px 3px 1px rgba(60, 64, 67, 0.15);\n",
              "    fill: var(--button-hover-fill-color);\n",
              "  }\n",
              "\n",
              "  .colab-df-quickchart-complete:disabled,\n",
              "  .colab-df-quickchart-complete:disabled:hover {\n",
              "    background-color: var(--disabled-bg-color);\n",
              "    fill: var(--disabled-fill-color);\n",
              "    box-shadow: none;\n",
              "  }\n",
              "\n",
              "  .colab-df-spinner {\n",
              "    border: 2px solid var(--fill-color);\n",
              "    border-color: transparent;\n",
              "    border-bottom-color: var(--fill-color);\n",
              "    animation:\n",
              "      spin 1s steps(1) infinite;\n",
              "  }\n",
              "\n",
              "  @keyframes spin {\n",
              "    0% {\n",
              "      border-color: transparent;\n",
              "      border-bottom-color: var(--fill-color);\n",
              "      border-left-color: var(--fill-color);\n",
              "    }\n",
              "    20% {\n",
              "      border-color: transparent;\n",
              "      border-left-color: var(--fill-color);\n",
              "      border-top-color: var(--fill-color);\n",
              "    }\n",
              "    30% {\n",
              "      border-color: transparent;\n",
              "      border-left-color: var(--fill-color);\n",
              "      border-top-color: var(--fill-color);\n",
              "      border-right-color: var(--fill-color);\n",
              "    }\n",
              "    40% {\n",
              "      border-color: transparent;\n",
              "      border-right-color: var(--fill-color);\n",
              "      border-top-color: var(--fill-color);\n",
              "    }\n",
              "    60% {\n",
              "      border-color: transparent;\n",
              "      border-right-color: var(--fill-color);\n",
              "    }\n",
              "    80% {\n",
              "      border-color: transparent;\n",
              "      border-right-color: var(--fill-color);\n",
              "      border-bottom-color: var(--fill-color);\n",
              "    }\n",
              "    90% {\n",
              "      border-color: transparent;\n",
              "      border-bottom-color: var(--fill-color);\n",
              "    }\n",
              "  }\n",
              "</style>\n",
              "\n",
              "  <script>\n",
              "    async function quickchart(key) {\n",
              "      const quickchartButtonEl =\n",
              "        document.querySelector('#' + key + ' button');\n",
              "      quickchartButtonEl.disabled = true;  // To prevent multiple clicks.\n",
              "      quickchartButtonEl.classList.add('colab-df-spinner');\n",
              "      try {\n",
              "        const charts = await google.colab.kernel.invokeFunction(\n",
              "            'suggestCharts', [key], {});\n",
              "      } catch (error) {\n",
              "        console.error('Error during call to suggestCharts:', error);\n",
              "      }\n",
              "      quickchartButtonEl.classList.remove('colab-df-spinner');\n",
              "      quickchartButtonEl.classList.add('colab-df-quickchart-complete');\n",
              "    }\n",
              "    (() => {\n",
              "      let quickchartButtonEl =\n",
              "        document.querySelector('#df-fd23fcc0-3039-48a3-ad73-505dfcf9dfc6 button');\n",
              "      quickchartButtonEl.style.display =\n",
              "        google.colab.kernel.accessAllowed ? 'block' : 'none';\n",
              "    })();\n",
              "  </script>\n",
              "</div>\n",
              "\n",
              "  <div id=\"id_a9265ba7-0def-4ad7-a25f-0f0f2001fc30\">\n",
              "    <style>\n",
              "      .colab-df-generate {\n",
              "        background-color: #E8F0FE;\n",
              "        border: none;\n",
              "        border-radius: 50%;\n",
              "        cursor: pointer;\n",
              "        display: none;\n",
              "        fill: #1967D2;\n",
              "        height: 32px;\n",
              "        padding: 0 0 0 0;\n",
              "        width: 32px;\n",
              "      }\n",
              "\n",
              "      .colab-df-generate:hover {\n",
              "        background-color: #E2EBFA;\n",
              "        box-shadow: 0px 1px 2px rgba(60, 64, 67, 0.3), 0px 1px 3px 1px rgba(60, 64, 67, 0.15);\n",
              "        fill: #174EA6;\n",
              "      }\n",
              "\n",
              "      [theme=dark] .colab-df-generate {\n",
              "        background-color: #3B4455;\n",
              "        fill: #D2E3FC;\n",
              "      }\n",
              "\n",
              "      [theme=dark] .colab-df-generate:hover {\n",
              "        background-color: #434B5C;\n",
              "        box-shadow: 0px 1px 3px 1px rgba(0, 0, 0, 0.15);\n",
              "        filter: drop-shadow(0px 1px 2px rgba(0, 0, 0, 0.3));\n",
              "        fill: #FFFFFF;\n",
              "      }\n",
              "    </style>\n",
              "    <button class=\"colab-df-generate\" onclick=\"generateWithVariable('centroids2')\"\n",
              "            title=\"Generate code using this dataframe.\"\n",
              "            style=\"display:none;\">\n",
              "\n",
              "  <svg xmlns=\"http://www.w3.org/2000/svg\" height=\"24px\"viewBox=\"0 0 24 24\"\n",
              "       width=\"24px\">\n",
              "    <path d=\"M7,19H8.4L18.45,9,17,7.55,7,17.6ZM5,21V16.75L18.45,3.32a2,2,0,0,1,2.83,0l1.4,1.43a1.91,1.91,0,0,1,.58,1.4,1.91,1.91,0,0,1-.58,1.4L9.25,21ZM18.45,9,17,7.55Zm-12,3A5.31,5.31,0,0,0,4.9,8.1,5.31,5.31,0,0,0,1,6.5,5.31,5.31,0,0,0,4.9,4.9,5.31,5.31,0,0,0,6.5,1,5.31,5.31,0,0,0,8.1,4.9,5.31,5.31,0,0,0,12,6.5,5.46,5.46,0,0,0,6.5,12Z\"/>\n",
              "  </svg>\n",
              "    </button>\n",
              "    <script>\n",
              "      (() => {\n",
              "      const buttonEl =\n",
              "        document.querySelector('#id_a9265ba7-0def-4ad7-a25f-0f0f2001fc30 button.colab-df-generate');\n",
              "      buttonEl.style.display =\n",
              "        google.colab.kernel.accessAllowed ? 'block' : 'none';\n",
              "\n",
              "      buttonEl.onclick = () => {\n",
              "        google.colab.notebook.generateWithVariable('centroids2');\n",
              "      }\n",
              "      })();\n",
              "    </script>\n",
              "  </div>\n",
              "\n",
              "    </div>\n",
              "  </div>\n"
            ],
            "application/vnd.google.colaboratory.intrinsic+json": {
              "type": "dataframe",
              "variable_name": "centroids2",
              "summary": "{\n  \"name\": \"centroids2\",\n  \"rows\": 3,\n  \"fields\": [\n    {\n      \"column\": \"cluster\",\n      \"properties\": {\n        \"dtype\": \"number\",\n        \"std\": 1,\n        \"min\": 0,\n        \"max\": 2,\n        \"num_unique_values\": 3,\n        \"samples\": [\n          0,\n          1,\n          2\n        ],\n        \"semantic_type\": \"\",\n        \"description\": \"\"\n      }\n    },\n    {\n      \"column\": \"d1\",\n      \"properties\": {\n        \"dtype\": \"number\",\n        \"std\": 3.8258162724191314,\n        \"min\": -9.916950877644938,\n        \"max\": -2.482663504417124,\n        \"num_unique_values\": 3,\n        \"samples\": [\n          -7.7679713693364025,\n          -2.482663504417124,\n          -9.916950877644938\n        ],\n        \"semantic_type\": \"\",\n        \"description\": \"\"\n      }\n    },\n    {\n      \"column\": \"d2\",\n      \"properties\": {\n        \"dtype\": \"number\",\n        \"std\": 3.704343159850467,\n        \"min\": -6.329341400194052,\n        \"max\": 0.09236789964852622,\n        \"num_unique_values\": 3,\n        \"samples\": [\n          -6.329341400194052,\n          -6.318129228586446,\n          0.09236789964852622\n        ],\n        \"semantic_type\": \"\",\n        \"description\": \"\"\n      }\n    }\n  ]\n}"
            }
          },
          "metadata": {},
          "execution_count": 9
        }
      ]
    },
    {
      "cell_type": "code",
      "execution_count": null,
      "id": "31673b58",
      "metadata": {
        "id": "31673b58",
        "colab": {
          "base_uri": "https://localhost:8080/",
          "height": 430
        },
        "outputId": "1de7a2cf-9f26-4df3-d634-80df467fccfc"
      },
      "outputs": [
        {
          "output_type": "display_data",
          "data": {
            "text/plain": [
              "<Figure size 640x480 with 1 Axes>"
            ],
            "image/png": "[encoded data removed]"
          },
          "metadata": {}
        }
      ],
      "source": [
        "# 데이터 포인트와 새로운 중심을 시각화 (중심은 빨간색)\n",
        "plt.scatter(points[\"d1\"], points[\"d2\"])\n",
        "plt.scatter(centroids2[\"d1\"], centroids2[\"d2\"], c=\"red\")\n",
        "plt.show()\n"
      ]
    },
    {
      "cell_type": "markdown",
      "source": [
        "11.3  아이리스 데이터를 k-means 알고리즘으로 클러스터링하기"
      ],
      "metadata": {
        "id": "PttuWirV8rZJ"
      },
      "id": "PttuWirV8rZJ"
    },
    {
      "cell_type": "code",
      "execution_count": null,
      "id": "f448a947",
      "metadata": {
        "id": "f448a947",
        "colab": {
          "base_uri": "https://localhost:8080/",
          "height": 93
        },
        "outputId": "a6898138-9ede-40db-f385-5e11e98549b7"
      },
      "outputs": [
        {
          "output_type": "display_data",
          "data": {
            "text/plain": [
              "<IPython.core.display.HTML object>"
            ],
            "text/html": [
              "\n",
              "     <input type=\"file\" id=\"files-9e51bbe7-6185-4d6d-b488-09e2a047fc16\" name=\"files[]\" multiple disabled\n",
              "        style=\"border:none\" />\n",
              "     <output id=\"result-9e51bbe7-6185-4d6d-b488-09e2a047fc16\">\n",
              "      Upload widget is only available when the cell has been executed in the\n",
              "      current browser session. Please rerun this cell to enable.\n",
              "      </output>\n",
              "      <script>// Copyright 2017 Google LLC\n",
              "//\n",
              "// Licensed under the Apache License, Version 2.0 (the \"License\");\n",
              "// you may not use this file except in compliance with the License.\n",
              "// You may obtain a copy of the License at\n",
              "//\n",
              "//      http://www.apache.org/licenses/LICENSE-2.0\n",
              "//\n",
              "// Unless required by applicable law or agreed to in writing, software\n",
              "// distributed under the License is distributed on an \"AS IS\" BASIS,\n",
              "// WITHOUT WARRANTIES OR CONDITIONS OF ANY KIND, either express or implied.\n",
              "// See the License for the specific language governing permissions and\n",
              "// limitations under the License.\n",
              "\n",
              "/**\n",
              " * @fileoverview Helpers for google.colab Python module.\n",
              " */\n",
              "(function(scope) {\n",
              "function span(text, styleAttributes = {}) {\n",
              "  const element = document.createElement('span');\n",
              "  element.textContent = text;\n",
              "  for (const key of Object.keys(styleAttributes)) {\n",
              "    element.style[key] = styleAttributes[key];\n",
              "  }\n",
              "  return element;\n",
              "}\n",
              "\n",
              "// Max number of bytes which will be uploaded at a time.\n",
              "const MAX_PAYLOAD_SIZE = 100 * 1024;\n",
              "\n",
              "function _uploadFiles(inputId, outputId) {\n",
              "  const steps = uploadFilesStep(inputId, outputId);\n",
              "  const outputElement = document.getElementById(outputId);\n",
              "  // Cache steps on the outputElement to make it available for the next call\n",
              "  // to uploadFilesContinue from Python.\n",
              "  outputElement.steps = steps;\n",
              "\n",
              "  return _uploadFilesContinue(outputId);\n",
              "}\n",
              "\n",
              "// This is roughly an async generator (not supported in the browser yet),\n",
              "// where there are multiple asynchronous steps and the Python side is going\n",
              "// to poll for completion of each step.\n",
              "// This uses a Promise to block the python side on completion of each step,\n",
              "// then passes the result of the previous step as the input to the next step.\n",
              "function _uploadFilesContinue(outputId) {\n",
              "  const outputElement = document.getElementById(outputId);\n",
              "  const steps = outputElement.steps;\n",
              "\n",
              "  const next = steps.next(outputElement.lastPromiseValue);\n",
              "  return Promise.resolve(next.value.promise).then((value) => {\n",
              "    // Cache the last promise value to make it available to the next\n",
              "    // step of the generator.\n",
              "    outputElement.lastPromiseValue = value;\n",
              "    return next.value.response;\n",
              "  });\n",
              "}\n",
              "\n",
              "/**\n",
              " * Generator function which is called between each async step of the upload\n",
              " * process.\n",
              " * @param {string} inputId Element ID of the input file picker element.\n",
              " * @param {string} outputId Element ID of the output display.\n",
              " * @return {!Iterable<!Object>} Iterable of next steps.\n",
              " */\n",
              "function* uploadFilesStep(inputId, outputId) {\n",
              "  const inputElement = document.getElementById(inputId);\n",
              "  inputElement.disabled = false;\n",
              "\n",
              "  const outputElement = document.getElementById(outputId);\n",
              "  outputElement.innerHTML = '';\n",
              "\n",
              "  const pickedPromise = new Promise((resolve) => {\n",
              "    inputElement.addEventListener('change', (e) => {\n",
              "      resolve(e.target.files);\n",
              "    });\n",
              "  });\n",
              "\n",
              "  const cancel = document.createElement('button');\n",
              "  inputElement.parentElement.appendChild(cancel);\n",
              "  cancel.textContent = 'Cancel upload';\n",
              "  const cancelPromise = new Promise((resolve) => {\n",
              "    cancel.onclick = () => {\n",
              "      resolve(null);\n",
              "    };\n",
              "  });\n",
              "\n",
              "  // Wait for the user to pick the files.\n",
              "  const files = yield {\n",
              "    promise: Promise.race([pickedPromise, cancelPromise]),\n",
              "    response: {\n",
              "      action: 'starting',\n",
              "    }\n",
              "  };\n",
              "\n",
              "  cancel.remove();\n",
              "\n",
              "  // Disable the input element since further picks are not allowed.\n",
              "  inputElement.disabled = true;\n",
              "\n",
              "  if (!files) {\n",
              "    return {\n",
              "      response: {\n",
              "        action: 'complete',\n",
              "      }\n",
              "    };\n",
              "  }\n",
              "\n",
              "  for (const file of files) {\n",
              "    const li = document.createElement('li');\n",
              "    li.append(span(file.name, {fontWeight: 'bold'}));\n",
              "    li.append(span(\n",
              "        `(${file.type || 'n/a'}) - ${file.size} bytes, ` +\n",
              "        `last modified: ${\n",
              "            file.lastModifiedDate ? file.lastModifiedDate.toLocaleDateString() :\n",
              "                                    'n/a'} - `));\n",
              "    const percent = span('0% done');\n",
              "    li.appendChild(percent);\n",
              "\n",
              "    outputElement.appendChild(li);\n",
              "\n",
              "    const fileDataPromise = new Promise((resolve) => {\n",
              "      const reader = new FileReader();\n",
              "      reader.onload = (e) => {\n",
              "        resolve(e.target.result);\n",
              "      };\n",
              "      reader.readAsArrayBuffer(file);\n",
              "    });\n",
              "    // Wait for the data to be ready.\n",
              "    let fileData = yield {\n",
              "      promise: fileDataPromise,\n",
              "      response: {\n",
              "        action: 'continue',\n",
              "      }\n",
              "    };\n",
              "\n",
              "    // Use a chunked sending to avoid message size limits. See b/62115660.\n",
              "    let position = 0;\n",
              "    do {\n",
              "      const length = Math.min(fileData.byteLength - position, MAX_PAYLOAD_SIZE);\n",
              "      const chunk = new Uint8Array(fileData, position, length);\n",
              "      position += length;\n",
              "\n",
              "      const base64 = btoa(String.fromCharCode.apply(null, chunk));\n",
              "      yield {\n",
              "        response: {\n",
              "          action: 'append',\n",
              "          file: file.name,\n",
              "          data: base64,\n",
              "        },\n",
              "      };\n",
              "\n",
              "      let percentDone = fileData.byteLength === 0 ?\n",
              "          100 :\n",
              "          Math.round((position / fileData.byteLength) * 100);\n",
              "      percent.textContent = `${percentDone}% done`;\n",
              "\n",
              "    } while (position < fileData.byteLength);\n",
              "  }\n",
              "\n",
              "  // All done.\n",
              "  yield {\n",
              "    response: {\n",
              "      action: 'complete',\n",
              "    }\n",
              "  };\n",
              "}\n",
              "\n",
              "scope.google = scope.google || {};\n",
              "scope.google.colab = scope.google.colab || {};\n",
              "scope.google.colab._files = {\n",
              "  _uploadFiles,\n",
              "  _uploadFilesContinue,\n",
              "};\n",
              "})(self);\n",
              "</script> "
            ]
          },
          "metadata": {}
        },
        {
          "output_type": "stream",
          "name": "stdout",
          "text": [
            "Saving iris.csv to iris.csv\n"
          ]
        },
        {
          "output_type": "execute_result",
          "data": {
            "text/plain": [
              "['.config', 'iris.csv', 'sample_data']"
            ]
          },
          "metadata": {},
          "execution_count": 11
        }
      ],
      "source": [
        "# 파일 업로드를 위한 모듈 임포트 (Google Colab 사용 시)\n",
        "from google.colab import files\n",
        "uploaded = files.upload()\n",
        "\n",
        "# 현재 디렉토리의 파일 목록 확인\n",
        "import os\n",
        "os.listdir()\n"
      ]
    },
    {
      "cell_type": "code",
      "execution_count": null,
      "id": "b401bf7f",
      "metadata": {
        "id": "b401bf7f"
      },
      "outputs": [],
      "source": [
        "# csv 파일을 처리하는 모듈 임포트\n",
        "import csv\n",
        "f = open('iris.csv')  # iris.csv 파일 열기\n",
        "data = csv.reader(f)  # 파일 내용을 읽어서 data에 저장\n",
        "ilist = []"
      ]
    },
    {
      "cell_type": "code",
      "execution_count": null,
      "id": "3f848b48",
      "metadata": {
        "colab": {
          "base_uri": "https://localhost:8080/"
        },
        "id": "3f848b48",
        "outputId": "d8d6256c-a81d-4278-e05a-75f5fe12f76e",
        "collapsed": true
      },
      "outputs": [
        {
          "output_type": "stream",
          "name": "stdout",
          "text": [
            "['sepal_length', 'sepal_width', 'petal_length', 'petal_width', 'species']\n",
            "['5.1', '3.5', '1.4', '0.2', 'Iris-setosa']\n",
            "['4.9', '3', '1.4', '0.2', 'Iris-setosa']\n",
            "['4.7', '3.2', '1.3', '0.2', 'Iris-setosa']\n",
            "['4.6', '3.1', '1.5', '0.2', 'Iris-setosa']\n",
            "['5', '3.6', '1.4', '0.2', 'Iris-setosa']\n",
            "['5.4', '3.9', '1.7', '0.4', 'Iris-setosa']\n",
            "['4.6', '3.4', '1.4', '0.3', 'Iris-setosa']\n",
            "['5', '3.4', '1.5', '0.2', 'Iris-setosa']\n",
            "['4.4', '2.9', '1.4', '0.2', 'Iris-setosa']\n",
            "['4.9', '3.1', '1.5', '0.1', 'Iris-setosa']\n",
            "['5.4', '3.7', '1.5', '0.2', 'Iris-setosa']\n",
            "['4.8', '3.4', '1.6', '0.2', 'Iris-setosa']\n",
            "['4.8', '3', '1.4', '0.1', 'Iris-setosa']\n",
            "['4.3', '3', '1.1', '0.1', 'Iris-setosa']\n",
            "['5.8', '4', '1.2', '0.2', 'Iris-setosa']\n",
            "['5.7', '4.4', '1.5', '0.4', 'Iris-setosa']\n",
            "['5.4', '3.9', '1.3', '0.4', 'Iris-setosa']\n",
            "['5.1', '3.5', '1.4', '0.3', 'Iris-setosa']\n",
            "['5.7', '3.8', '1.7', '0.3', 'Iris-setosa']\n",
            "['5.1', '3.8', '1.5', '0.3', 'Iris-setosa']\n",
            "['5.4', '3.4', '1.7', '0.2', 'Iris-setosa']\n",
            "['5.1', '3.7', '1.5', '0.4', 'Iris-setosa']\n",
            "['4.6', '3.6', '1', '0.2', 'Iris-setosa']\n",
            "['5.1', '3.3', '1.7', '0.5', 'Iris-setosa']\n",
            "['4.8', '3.4', '1.9', '0.2', 'Iris-setosa']\n",
            "['5', '3', '1.6', '0.2', 'Iris-setosa']\n",
            "['5', '3.4', '1.6', '0.4', 'Iris-setosa']\n",
            "['5.2', '3.5', '1.5', '0.2', 'Iris-setosa']\n",
            "['5.2', '3.4', '1.4', '0.2', 'Iris-setosa']\n",
            "['4.7', '3.2', '1.6', '0.2', 'Iris-setosa']\n",
            "['4.8', '3.1', '1.6', '0.2', 'Iris-setosa']\n",
            "['5.4', '3.4', '1.5', '0.4', 'Iris-setosa']\n",
            "['5.2', '4.1', '1.5', '0.1', 'Iris-setosa']\n",
            "['5.5', '4.2', '1.4', '0.2', 'Iris-setosa']\n",
            "['4.9', '3.1', '1.5', '0.1', 'Iris-setosa']\n",
            "['5', '3.2', '1.2', '0.2', 'Iris-setosa']\n",
            "['5.5', '3.5', '1.3', '0.2', 'Iris-setosa']\n",
            "['4.9', '3.1', '1.5', '0.1', 'Iris-setosa']\n",
            "['4.4', '3', '1.3', '0.2', 'Iris-setosa']\n",
            "['5.1', '3.4', '1.5', '0.2', 'Iris-setosa']\n",
            "['5', '3.5', '1.3', '0.3', 'Iris-setosa']\n",
            "['4.5', '2.3', '1.3', '0.3', 'Iris-setosa']\n",
            "['4.4', '3.2', '1.3', '0.2', 'Iris-setosa']\n",
            "['5', '3.5', '1.6', '0.6', 'Iris-setosa']\n",
            "['5.1', '3.8', '1.9', '0.4', 'Iris-setosa']\n",
            "['4.8', '3', '1.4', '0.3', 'Iris-setosa']\n",
            "['5.1', '3.8', '1.6', '0.2', 'Iris-setosa']\n",
            "['4.6', '3.2', '1.4', '0.2', 'Iris-setosa']\n",
            "['5.3', '3.7', '1.5', '0.2', 'Iris-setosa']\n",
            "['5', '3.3', '1.4', '0.2', 'Iris-setosa']\n",
            "['7', '3.2', '4.7', '1.4', 'Iris-versicolor']\n",
            "['6.4', '3.2', '4.5', '1.5', 'Iris-versicolor']\n",
            "['6.9', '3.1', '4.9', '1.5', 'Iris-versicolor']\n",
            "['5.5', '2.3', '4', '1.3', 'Iris-versicolor']\n",
            "['6.5', '2.8', '4.6', '1.5', 'Iris-versicolor']\n",
            "['5.7', '2.8', '4.5', '1.3', 'Iris-versicolor']\n",
            "['6.3', '3.3', '4.7', '1.6', 'Iris-versicolor']\n",
            "['4.9', '2.4', '3.3', '1', 'Iris-versicolor']\n",
            "['6.6', '2.9', '4.6', '1.3', 'Iris-versicolor']\n",
            "['5.2', '2.7', '3.9', '1.4', 'Iris-versicolor']\n",
            "['5', '2', '3.5', '1', 'Iris-versicolor']\n",
            "['5.9', '3', '4.2', '1.5', 'Iris-versicolor']\n",
            "['6', '2.2', '4', '1', 'Iris-versicolor']\n",
            "['6.1', '2.9', '4.7', '1.4', 'Iris-versicolor']\n",
            "['5.6', '2.9', '3.6', '1.3', 'Iris-versicolor']\n",
            "['6.7', '3.1', '4.4', '1.4', 'Iris-versicolor']\n",
            "['5.6', '3', '4.5', '1.5', 'Iris-versicolor']\n",
            "['5.8', '2.7', '4.1', '1', 'Iris-versicolor']\n",
            "['6.2', '2.2', '4.5', '1.5', 'Iris-versicolor']\n",
            "['5.6', '2.5', '3.9', '1.1', 'Iris-versicolor']\n",
            "['5.9', '3.2', '4.8', '1.8', 'Iris-versicolor']\n",
            "['6.1', '2.8', '4', '1.3', 'Iris-versicolor']\n",
            "['6.3', '2.5', '4.9', '1.5', 'Iris-versicolor']\n",
            "['6.1', '2.8', '4.7', '1.2', 'Iris-versicolor']\n",
            "['6.4', '2.9', '4.3', '1.3', 'Iris-versicolor']\n",
            "['6.6', '3', '4.4', '1.4', 'Iris-versicolor']\n",
            "['6.8', '2.8', '4.8', '1.4', 'Iris-versicolor']\n",
            "['6.7', '3', '5', '1.7', 'Iris-versicolor']\n",
            "['6', '2.9', '4.5', '1.5', 'Iris-versicolor']\n",
            "['5.7', '2.6', '3.5', '1', 'Iris-versicolor']\n",
            "['5.5', '2.4', '3.8', '1.1', 'Iris-versicolor']\n",
            "['5.5', '2.4', '3.7', '1', 'Iris-versicolor']\n",
            "['5.8', '2.7', '3.9', '1.2', 'Iris-versicolor']\n",
            "['6', '2.7', '5.1', '1.6', 'Iris-versicolor']\n",
            "['5.4', '3', '4.5', '1.5', 'Iris-versicolor']\n",
            "['6', '3.4', '4.5', '1.6', 'Iris-versicolor']\n",
            "['6.7', '3.1', '4.7', '1.5', 'Iris-versicolor']\n",
            "['6.3', '2.3', '4.4', '1.3', 'Iris-versicolor']\n",
            "['5.6', '3', '4.1', '1.3', 'Iris-versicolor']\n",
            "['5.5', '2.5', '4', '1.3', 'Iris-versicolor']\n",
            "['5.5', '2.6', '4.4', '1.2', 'Iris-versicolor']\n",
            "['6.1', '3', '4.6', '1.4', 'Iris-versicolor']\n",
            "['5.8', '2.6', '4', '1.2', 'Iris-versicolor']\n",
            "['5', '2.3', '3.3', '1', 'Iris-versicolor']\n",
            "['5.6', '2.7', '4.2', '1.3', 'Iris-versicolor']\n",
            "['5.7', '3', '4.2', '1.2', 'Iris-versicolor']\n",
            "['5.7', '2.9', '4.2', '1.3', 'Iris-versicolor']\n",
            "['6.2', '2.9', '4.3', '1.3', 'Iris-versicolor']\n",
            "['5.1', '2.5', '3', '1.1', 'Iris-versicolor']\n",
            "['5.7', '2.8', '4.1', '1.3', 'Iris-versicolor']\n",
            "['6.3', '3.3', '6', '2.5', 'Iris-virginica']\n",
            "['5.8', '2.7', '5.1', '1.9', 'Iris-virginica']\n",
            "['7.1', '3', '5.9', '2.1', 'Iris-virginica']\n",
            "['6.3', '2.9', '5.6', '1.8', 'Iris-virginica']\n",
            "['6.5', '3', '5.8', '2.2', 'Iris-virginica']\n",
            "['7.6', '3', '6.6', '2.1', 'Iris-virginica']\n",
            "['4.9', '2.5', '4.5', '1.7', 'Iris-virginica']\n",
            "['7.3', '2.9', '6.3', '1.8', 'Iris-virginica']\n",
            "['6.7', '2.5', '5.8', '1.8', 'Iris-virginica']\n",
            "['7.2', '3.6', '6.1', '2.5', 'Iris-virginica']\n",
            "['6.5', '3.2', '5.1', '2', 'Iris-virginica']\n",
            "['6.4', '2.7', '5.3', '1.9', 'Iris-virginica']\n",
            "['6.8', '3', '5.5', '2.1', 'Iris-virginica']\n",
            "['5.7', '2.5', '5', '2', 'Iris-virginica']\n",
            "['5.8', '2.8', '5.1', '2.4', 'Iris-virginica']\n",
            "['6.4', '3.2', '5.3', '2.3', 'Iris-virginica']\n",
            "['6.5', '3', '5.5', '1.8', 'Iris-virginica']\n",
            "['7.7', '3.8', '6.7', '2.2', 'Iris-virginica']\n",
            "['7.7', '2.6', '6.9', '2.3', 'Iris-virginica']\n",
            "['6', '2.2', '5', '1.5', 'Iris-virginica']\n",
            "['6.9', '3.2', '5.7', '2.3', 'Iris-virginica']\n",
            "['5.6', '2.8', '4.9', '2', 'Iris-virginica']\n",
            "['7.7', '2.8', '6.7', '2', 'Iris-virginica']\n",
            "['6.3', '2.7', '4.9', '1.8', 'Iris-virginica']\n",
            "['6.7', '3.3', '5.7', '2.1', 'Iris-virginica']\n",
            "['7.2', '3.2', '6', '1.8', 'Iris-virginica']\n",
            "['6.2', '2.8', '4.8', '1.8', 'Iris-virginica']\n",
            "['6.1', '3', '4.9', '1.8', 'Iris-virginica']\n",
            "['6.4', '2.8', '5.6', '2.1', 'Iris-virginica']\n",
            "['7.2', '3', '5.8', '1.6', 'Iris-virginica']\n",
            "['7.4', '2.8', '6.1', '1.9', 'Iris-virginica']\n",
            "['7.9', '3.8', '6.4', '2', 'Iris-virginica']\n",
            "['6.4', '2.8', '5.6', '2.2', 'Iris-virginica']\n",
            "['6.3', '2.8', '5.1', '1.5', 'Iris-virginica']\n",
            "['6.1', '2.6', '5.6', '1.4', 'Iris-virginica']\n",
            "['7.7', '3', '6.1', '2.3', 'Iris-virginica']\n",
            "['6.3', '3.4', '5.6', '2.4', 'Iris-virginica']\n",
            "['6.4', '3.1', '5.5', '1.8', 'Iris-virginica']\n",
            "['6', '3', '4.8', '1.8', 'Iris-virginica']\n",
            "['6.9', '3.1', '5.4', '2.1', 'Iris-virginica']\n",
            "['6.7', '3.1', '5.6', '2.4', 'Iris-virginica']\n",
            "['6.9', '3.1', '5.1', '2.3', 'Iris-virginica']\n",
            "['5.8', '2.7', '5.1', '1.9', 'Iris-virginica']\n",
            "['6.8', '3.2', '5.9', '2.3', 'Iris-virginica']\n",
            "['6.7', '3.3', '5.7', '2.5', 'Iris-virginica']\n",
            "['6.7', '3', '5.2', '2.3', 'Iris-virginica']\n",
            "['6.3', '2.5', '5', '1.9', 'Iris-virginica']\n",
            "['6.5', '3', '5.2', '2', 'Iris-virginica']\n",
            "['6.2', '3.4', '5.4', '2.3', 'Iris-virginica']\n",
            "['5.9', '3', '5.1', '1.8', 'Iris-virginica']\n"
          ]
        }
      ],
      "source": [
        "# 파일 내용을 ilist에 저장하고 출력\n",
        "for row in data:\n",
        "    ilist.append(row)\n",
        "    print(row)"
      ]
    },
    {
      "cell_type": "code",
      "execution_count": null,
      "id": "e9c538df",
      "metadata": {
        "colab": {
          "base_uri": "https://localhost:8080/"
        },
        "id": "e9c538df",
        "outputId": "563db074-fc1b-4152-bb66-909afc1ee15d"
      },
      "outputs": [
        {
          "output_type": "stream",
          "name": "stderr",
          "text": [
            "/usr/local/lib/python3.10/dist-packages/sklearn/cluster/_kmeans.py:870: FutureWarning: The default value of `n_init` will change from 10 to 'auto' in 1.4. Set the value of `n_init` explicitly to suppress the warning\n",
            "  warnings.warn(\n"
          ]
        },
        {
          "output_type": "execute_result",
          "data": {
            "text/plain": [
              "array([0, 0, 0, 0, 0, 0, 0, 0, 0, 0, 0, 0, 0, 0, 0, 0, 0, 0, 0, 0, 0, 0,\n",
              "       0, 0, 0, 0, 0, 0, 0, 0, 0, 0, 0, 0, 0, 0, 0, 0, 0, 0, 0, 0, 0, 0,\n",
              "       0, 0, 0, 0, 0, 0, 1, 1, 2, 1, 1, 1, 1, 1, 1, 1, 1, 1, 1, 1, 1, 1,\n",
              "       1, 1, 1, 1, 1, 1, 1, 1, 1, 1, 1, 2, 1, 1, 1, 1, 1, 1, 1, 1, 1, 1,\n",
              "       1, 1, 1, 1, 1, 1, 1, 1, 1, 1, 1, 1, 2, 1, 2, 2, 2, 2, 1, 2, 2, 2,\n",
              "       2, 2, 2, 1, 1, 2, 2, 2, 2, 1, 2, 1, 2, 1, 2, 2, 1, 1, 2, 2, 2, 2,\n",
              "       2, 1, 2, 2, 2, 2, 1, 2, 2, 2, 1, 2, 2, 2, 1, 2, 2, 1], dtype=int32)"
            ]
          },
          "metadata": {},
          "execution_count": 14
        }
      ],
      "source": [
        "# KMeans 클러스터링을 위한 라이브러리 임포트\n",
        "from sklearn.cluster import KMeans\n",
        "from sklearn.datasets import load_iris\n",
        "iris = load_iris()  # 아이리스 데이터셋 로드\n",
        "km = KMeans(n_clusters=3)  # KMeans 모델 생성 (클러스터 수: 3)\n",
        "km.fit(iris.data)  # 모델 학습\n",
        "labels = km.predict(iris.data)  # 데이터 포인트의 클러스터 레이블 예측\n",
        "labels\n"
      ]
    },
    {
      "cell_type": "code",
      "execution_count": null,
      "id": "4446bc47",
      "metadata": {
        "colab": {
          "base_uri": "https://localhost:8080/"
        },
        "id": "4446bc47",
        "outputId": "f31555a4-6c43-47ef-eb53-4b5bb8b7620b"
      },
      "outputs": [
        {
          "output_type": "stream",
          "name": "stdout",
          "text": [
            "setosa \t correct: 50  incorrect: 0\n"
          ]
        }
      ],
      "source": [
        "# setosa 종류의 정확도와 오류를 계산\n",
        "correct, incorrect = 0, 0\n",
        "for i in range(0, 50):\n",
        "    if labels[i] == 0:  # setosa 종류는 label이 0\n",
        "        correct += 1\n",
        "    else:\n",
        "         incorrect += 1\n",
        "\n",
        "print(\"setosa \\t correct:\", correct, \" incorrect:\", incorrect)\n"
      ]
    },
    {
      "cell_type": "code",
      "execution_count": null,
      "id": "faf5340c",
      "metadata": {
        "colab": {
          "base_uri": "https://localhost:8080/"
        },
        "id": "faf5340c",
        "outputId": "83156307-3011-4571-b213-5fe7872b6e3e"
      },
      "outputs": [
        {
          "output_type": "stream",
          "name": "stdout",
          "text": [
            "versicolor \t correct: 48  incorrect: 2\n"
          ]
        }
      ],
      "source": [
        "# versicolor 종류의 정확도와 오류를 계산\n",
        "correct, incorrect = 0, 0\n",
        "for i in range(50, 100):\n",
        "    if labels[i] == 1:  # versicolor 종류는 label이 1\n",
        "         correct += 1\n",
        "    else:\n",
        "         incorrect += 1\n",
        "print(\"versicolor \\t correct:\", correct, \" incorrect:\", incorrect)\n"
      ]
    },
    {
      "cell_type": "code",
      "execution_count": null,
      "id": "9cf8818c",
      "metadata": {
        "colab": {
          "base_uri": "https://localhost:8080/"
        },
        "id": "9cf8818c",
        "outputId": "a3d43bb8-b938-45ff-b084-81bb21e26abb"
      },
      "outputs": [
        {
          "output_type": "stream",
          "name": "stdout",
          "text": [
            "virginica \t correct: 36  incorrect: 14\n"
          ]
        }
      ],
      "source": [
        "# virginica 종류의 정확도와 오류를 계산\n",
        "correct, incorrect = 0, 0\n",
        "for i in range(100, 150):\n",
        "    if labels[i] == 2:  # virginica 종류는 label이 2\n",
        "        correct += 1\n",
        "    else:\n",
        "        incorrect += 1\n",
        "print(\"virginica \\t correct:\", correct, \" incorrect:\", incorrect)\n"
      ]
    },
    {
      "cell_type": "code",
      "execution_count": null,
      "id": "19551d5a",
      "metadata": {
        "id": "19551d5a",
        "colab": {
          "base_uri": "https://localhost:8080/"
        },
        "outputId": "e2e7f744-9fa3-415d-8875-e17a1453dbd9"
      },
      "outputs": [
        {
          "output_type": "execute_result",
          "data": {
            "text/plain": [
              "(120, 4)"
            ]
          },
          "metadata": {},
          "execution_count": 25
        }
      ],
      "source": [
        "# 아이리스 데이터셋을 로드하고 훈련 및 테스트 세트로 나누기\n",
        "from sklearn.datasets import load_iris\n",
        "from sklearn.model_selection import train_test_split\n",
        "from sklearn.cluster import KMeans\n",
        "iris = load_iris()\n",
        "X_train, X_test, Y_train, Y_test = train_test_split(iris.data, iris.target, train_size=0.8)\n",
        "X_train.shape  # 훈련 세트의 형태 확인\n"
      ]
    },
    {
      "cell_type": "code",
      "execution_count": null,
      "id": "473cd1d9",
      "metadata": {
        "id": "473cd1d9",
        "colab": {
          "base_uri": "https://localhost:8080/",
          "height": 452
        },
        "outputId": "3d98b8e7-29f0-454d-c640-76a74cc69abe"
      },
      "outputs": [
        {
          "output_type": "display_data",
          "data": {
            "text/plain": [
              "<Figure size 640x480 with 1 Axes>"
            ],
            "image/png": "[encoded data removed]"
          },
          "metadata": {}
        }
      ],
      "source": [
        "# 훈련 데이터의 첫 두 특성을 사용하여 산점도 그리기\n",
        "import matplotlib.pyplot as plt\n",
        "plt.scatter(X_train[:, 0], X_train[:, 1], c=Y_train)\n",
        "plt.xlabel('sepal length (cm)')\n",
        "plt.ylabel('sepal width (cm)')\n",
        "plt.show()\n"
      ]
    },
    {
      "cell_type": "code",
      "source": [
        "# 클러스터 수에 따른 관성(inertia) 값을 저장할 리스트 초기화\n",
        "inertia = []\n",
        "for k in range(2, 8):\n",
        "    km = KMeans(n_clusters=k, random_state=15)  # KMeans 모델 생성\n",
        "    km.fit(iris.data)  # 모델 학습\n",
        "    inertia.append(km.inertia_)  # 각 클러스터 수에 대한 관성 값을 리스트에 추가\n",
        "\n",
        "# 클러스터 수에 따른 관성의 변화를 시각화\n",
        "plt.plot(range(2, 8), inertia)\n",
        "plt.xlabel('Number of clusters (k)')\n",
        "plt.ylabel('Inertia')\n",
        "plt.show()"
      ],
      "metadata": {
        "colab": {
          "base_uri": "https://localhost:8080/",
          "height": 677
        },
        "id": "B7Q-vEpw9Sgp",
        "outputId": "ff121239-6007-436c-85b9-959ebefb68b2"
      },
      "id": "B7Q-vEpw9Sgp",
      "execution_count": null,
      "outputs": [
        {
          "output_type": "stream",
          "name": "stderr",
          "text": [
            "/usr/local/lib/python3.10/dist-packages/sklearn/cluster/_kmeans.py:870: FutureWarning: The default value of `n_init` will change from 10 to 'auto' in 1.4. Set the value of `n_init` explicitly to suppress the warning\n",
            "  warnings.warn(\n",
            "/usr/local/lib/python3.10/dist-packages/sklearn/cluster/_kmeans.py:870: FutureWarning: The default value of `n_init` will change from 10 to 'auto' in 1.4. Set the value of `n_init` explicitly to suppress the warning\n",
            "  warnings.warn(\n",
            "/usr/local/lib/python3.10/dist-packages/sklearn/cluster/_kmeans.py:870: FutureWarning: The default value of `n_init` will change from 10 to 'auto' in 1.4. Set the value of `n_init` explicitly to suppress the warning\n",
            "  warnings.warn(\n",
            "/usr/local/lib/python3.10/dist-packages/sklearn/cluster/_kmeans.py:870: FutureWarning: The default value of `n_init` will change from 10 to 'auto' in 1.4. Set the value of `n_init` explicitly to suppress the warning\n",
            "  warnings.warn(\n",
            "/usr/local/lib/python3.10/dist-packages/sklearn/cluster/_kmeans.py:870: FutureWarning: The default value of `n_init` will change from 10 to 'auto' in 1.4. Set the value of `n_init` explicitly to suppress the warning\n",
            "  warnings.warn(\n",
            "/usr/local/lib/python3.10/dist-packages/sklearn/cluster/_kmeans.py:870: FutureWarning: The default value of `n_init` will change from 10 to 'auto' in 1.4. Set the value of `n_init` explicitly to suppress the warning\n",
            "  warnings.warn(\n"
          ]
        },
        {
          "output_type": "display_data",
          "data": {
            "text/plain": [
              "<Figure size 640x480 with 1 Axes>"
            ],
            "image/png": "[encoded data removed]"
          },
          "metadata": {}
        }
      ]
    }
  ],
  "metadata": {
    "kernelspec": {
      "display_name": "Python 3 (ipykernel)",
      "language": "python",
      "name": "python3"
    },
    "language_info": {
      "codemirror_mode": {
        "name": "ipython",
        "version": 3
      },
      "file_extension": ".py",
      "mimetype": "text/x-python",
      "name": "python",
      "nbconvert_exporter": "python",
      "pygments_lexer": "ipython3",
      "version": "3.9.12"
    },
    "colab": {
      "provenance": [],
      "toc_visible": true,
      "include_colab_link": true
    }
  },
  "nbformat": 4,
  "nbformat_minor": 5
}